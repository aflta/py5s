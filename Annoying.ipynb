{
 "cells": [
  {
   "cell_type": "code",
   "execution_count": 1,
   "metadata": {},
   "outputs": [
    {
     "data": {
      "text/html": [
       "<style id='annoying'>\n",
       "* {\n",
       "    font-family: \"Comic Sans MS\";\n",
       "    background: url('https://media.giphy.com/media/87tkMovdHMRk4/giphy.gif') black;\n",
       "    \n",
       "    animation: 3s infinite linear hue;\n",
       "}\n",
       "\n",
       "@keyframes hue {\n",
       "    0% { color: hsl(0, 100%, 50%); }\n",
       "    16% { color: hsl(60, 100%, 50%); }\n",
       "    33% { color: hsl(120, 100%, 50%); }\n",
       "    50% { color: hsl(180, 100%, 50%); }\n",
       "    67% { color: hsl(240, 100%, 50%); }\n",
       "    84% { color: hsl(300, 100%, 50%); }\n",
       "    100% { color: hsl(360, 100%, 50%); }\n",
       "}\n",
       "\n",
       "</style>\n",
       "<button onclick=\"$('#annoying').remove()\">Please Stop!</button>"
      ],
      "text/plain": [
       "<IPython.core.display.HTML object>"
      ]
     },
     "metadata": {},
     "output_type": "display_data"
    }
   ],
   "source": [
    "%%html\n",
    "<style id='annoying'>\n",
    "* {\n",
    "    font-family: \"Comic Sans MS\";\n",
    "    background: url('https://media.giphy.com/media/87tkMovdHMRk4/giphy.gif') black;\n",
    "    \n",
    "    animation: 3s infinite linear hue;\n",
    "}\n",
    "\n",
    "@keyframes hue {\n",
    "    0% { color: hsl(0, 100%, 50%); }\n",
    "    16% { color: hsl(60, 100%, 50%); }\n",
    "    33% { color: hsl(120, 100%, 50%); }\n",
    "    50% { color: hsl(180, 100%, 50%); }\n",
    "    67% { color: hsl(240, 100%, 50%); }\n",
    "    84% { color: hsl(300, 100%, 50%); }\n",
    "    100% { color: hsl(360, 100%, 50%); }\n",
    "}\n",
    "\n",
    "</style>\n",
    "<button onclick=\"$('#annoying').remove()\">Please Stop!</button>\n"
   ]
  },
  {
   "cell_type": "code",
   "execution_count": null,
   "metadata": {},
   "outputs": [],
   "source": []
  }
 ],
 "metadata": {
  "kernelspec": {
   "display_name": "Python 3",
   "language": "python",
   "name": "python3"
  },
  "language_info": {
   "codemirror_mode": {
    "name": "ipython",
    "version": 3
   },
   "file_extension": ".py",
   "mimetype": "text/x-python",
   "name": "python",
   "nbconvert_exporter": "python",
   "pygments_lexer": "ipython3",
   "version": "3.7.3"
  }
 },
 "nbformat": 4,
 "nbformat_minor": 2
}
